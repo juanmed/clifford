{
 "cells": [
  {
   "cell_type": "markdown",
   "id": "03bc2560",
   "metadata": {},
   "source": [
    "# Uncertainty propagation"
   ]
  },
  {
   "cell_type": "code",
   "execution_count": 7,
   "id": "7ab849b1",
   "metadata": {},
   "outputs": [],
   "source": [
    "import clifford as cf\n",
    "from clifford.tools.g3 import *\n",
    "import numpy as np"
   ]
  },
  {
   "cell_type": "code",
   "execution_count": 8,
   "id": "23317db4",
   "metadata": {},
   "outputs": [],
   "source": [
    "layout, blades = cf.Cl(2)\n",
    "e1 = blades['e1']; e2 = blades['e2']; e12 = blades['e12']"
   ]
  },
  {
   "cell_type": "code",
   "execution_count": 28,
   "id": "7857b244",
   "metadata": {},
   "outputs": [],
   "source": [
    "def propagateGeometricProduct(a, b, E_aa, E_bb, E_ab = None, E_ba = None):\n",
    "    \"\"\"Build covariance matrix following Ch 5. Eq 5.64.\n",
    "       While building matrix, also care of building Eq 5.73, 5.74, 5.75\"\"\"\n",
    "    \n",
    "    # Prepare matrices\n",
    "    a_m = layout.get_left_gmt_matrix(a)\n",
    "    b_m = layout.get_right_gmt_matrix(b)\n",
    "    E_uu = np.zeros_like(a_m)\n",
    "    E_ua = np.zeros_like(a_m)\n",
    "    E_ub = np.zeros_like(a_m)\n",
    "    \n",
    "    # Compute part of covariances related to variance of a and b \n",
    "    E_ua = np.matmul(b_m, E_aa)\n",
    "    E_ub = np.matmul(a_m, E_bb)\n",
    "    E_uu = np.matmul(E_ua, b_m.T) + np.matmul(E_ub, a_m.T)\n",
    "     \n",
    "    # Add part of covariances related to cross-covariance of a and b\n",
    "    if E_ab is not None:\n",
    "        Gr_Eab = np.matmul(b_m, E_ab)\n",
    "        E_ub += Gr_Eab\n",
    "        Euu += np.matmul(Gr_Eab, a_m.T)\n",
    "    if E_ba is not None:\n",
    "        Gl_Eba = np.matmul(a_m, Eba)\n",
    "        E_ua += Gl_Eba\n",
    "        Euu += np.matmul(Gl_Eba, b_m.T)\n",
    "    \n",
    "    output = [E_uu, E_ua, E_ub]\n",
    "    return output"
   ]
  },
  {
   "cell_type": "markdown",
   "id": "77082b10",
   "metadata": {},
   "source": [
    "### Define some random multivectors"
   ]
  },
  {
   "cell_type": "code",
   "execution_count": 29,
   "id": "b7a2db64",
   "metadata": {},
   "outputs": [
    {
     "name": "stdout",
     "output_type": "stream",
     "text": [
      "[[4. 0. 0. 0.]\n",
      " [0. 4. 0. 0.]\n",
      " [0. 0. 4. 0.]\n",
      " [0. 0. 0. 4.]] \n",
      " [[5. 0. 0. 0.]\n",
      " [0. 5. 0. 0.]\n",
      " [0. 0. 5. 0.]\n",
      " [0. 0. 0. 5.]]\n",
      "c:  4.0 + (6.0^e1) + (6.0^e12)\n",
      "c coeffs:  [4. 6. 0. 6.]\n"
     ]
    }
   ],
   "source": [
    "# Multivectors a,b and their covariance matrices E_aa, E_bb\n",
    "# a,b are uncorrelated: E_ab = E_ba = 0\n",
    "a = 0.0 + 1.0*e1 + 2.0*e2 + 3.0*e12\n",
    "b = 3.0 + 2.0*e1 + 1.0*e2 + 0.0*e12\n",
    "E_aa = 4*np.eye(4, dtype=np.float64)\n",
    "E_bb = 5*np.eye(4, dtype=np.float64)\n",
    "print(E_aa,\"\\n\", E_bb)\n",
    "E_ab = np.zeros((4,4))\n",
    "E_ba = np.zeros((4,4))\n",
    "c = a * b\n",
    "print(\"c: \", c)\n",
    "print(\"c coeffs: \", c.value)"
   ]
  },
  {
   "cell_type": "code",
   "execution_count": 31,
   "id": "c93c14a6",
   "metadata": {},
   "outputs": [
    {
     "name": "stdout",
     "output_type": "stream",
     "text": [
      "C covariance:\n",
      " [[126. 108.  -6.   0.]\n",
      " [108. 126.   0.  54.]\n",
      " [ -6.   0. 126.  12.]\n",
      " [  0.  54.  12. 126.]]\n",
      "[[12.  8.  4.  0.]\n",
      " [ 8. 12.  0.  4.]\n",
      " [ 4.  0. 12. -8.]\n",
      " [ 0.  4. -8. 12.]]\n",
      "[[  0.   5.  10. -15.]\n",
      " [  5.   0.  15. -10.]\n",
      " [ 10. -15.   0.   5.]\n",
      " [ 15. -10.   5.   0.]]\n"
     ]
    }
   ],
   "source": [
    "E_cc = propagateGeometricProduct(a, b, E_aa, E_bb)\n",
    "print(\"C covariance:\\n\", E_cc[0])\n",
    "print(E_cc[1])\n",
    "print(E_cc[2])"
   ]
  },
  {
   "cell_type": "code",
   "execution_count": null,
   "id": "6f2da7dd",
   "metadata": {},
   "outputs": [],
   "source": []
  },
  {
   "cell_type": "code",
   "execution_count": 12,
   "id": "f6db4676",
   "metadata": {},
   "outputs": [
    {
     "ename": "NameError",
     "evalue": "name 'a_m' is not defined",
     "output_type": "error",
     "traceback": [
      "\u001b[0;31m---------------------------------------------------------------------------\u001b[0m",
      "\u001b[0;31mNameError\u001b[0m                                 Traceback (most recent call last)",
      "\u001b[0;32m/tmp/ipykernel_7708/1489216942.py\u001b[0m in \u001b[0;36m<module>\u001b[0;34m\u001b[0m\n\u001b[0;32m----> 1\u001b[0;31m \u001b[0;34m(\u001b[0m\u001b[0ma_m\u001b[0m\u001b[0;34m.\u001b[0m\u001b[0mshape\u001b[0m\u001b[0;34m)\u001b[0m\u001b[0;34m\u001b[0m\u001b[0;34m\u001b[0m\u001b[0m\n\u001b[0m",
      "\u001b[0;31mNameError\u001b[0m: name 'a_m' is not defined"
     ]
    }
   ],
   "source": [
    "(a_m.shape)"
   ]
  },
  {
   "cell_type": "code",
   "execution_count": null,
   "id": "cdac9566",
   "metadata": {},
   "outputs": [],
   "source": []
  }
 ],
 "metadata": {
  "kernelspec": {
   "display_name": "Python 3 (ipykernel)",
   "language": "python",
   "name": "python3"
  },
  "language_info": {
   "codemirror_mode": {
    "name": "ipython",
    "version": 3
   },
   "file_extension": ".py",
   "mimetype": "text/x-python",
   "name": "python",
   "nbconvert_exporter": "python",
   "pygments_lexer": "ipython3",
   "version": "3.7.17"
  }
 },
 "nbformat": 4,
 "nbformat_minor": 5
}
